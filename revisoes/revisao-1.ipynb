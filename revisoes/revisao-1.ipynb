{
 "cells": [
  {
   "cell_type": "code",
   "execution_count": null,
   "id": "initial_id",
   "metadata": {
    "collapsed": true
   },
   "outputs": [],
   "source": [
    "palavra = 'O ano de 2023 está acabando'\n",
    "print(palavra)\n",
    "print(palavra.split())\n",
    "print(palavra[0:27])\n",
    "print(palavra[0:20])\n",
    "print(len(palavra))"
   ]
  },
  {
   "cell_type": "code",
   "execution_count": null,
   "outputs": [],
   "source": [
    "teste = 'Engenharia'\n",
    "print(teste.find('e'))\n",
    "print(teste.find('E'))\n",
    "print(teste.rfind('e'))\n",
    "print(teste.find('a'))\n",
    "print(teste.rfind('a'))"
   ],
   "metadata": {
    "collapsed": false
   },
   "id": "182ae15c71ff1bfc"
  },
  {
   "cell_type": "code",
   "execution_count": null,
   "outputs": [],
   "source": [
    "employees = {'1010':'João',\n",
    "             '2020':'Pedro',\n",
    "             '3030':'Maria'}\n",
    "employees.update({'4040':'Paula'})\n",
    "print(employees)"
   ],
   "metadata": {
    "collapsed": false
   },
   "id": "592db71a468bbc81"
  },
  {
   "cell_type": "code",
   "execution_count": null,
   "outputs": [],
   "source": [
    "import sys\n",
    "print(sys.argv)\n",
    "print(len(sys.argv))"
   ],
   "metadata": {
    "collapsed": false
   },
   "id": "7b2c61ee2cac81a4"
  },
  {
   "cell_type": "code",
   "execution_count": null,
   "outputs": [],
   "source": [
    "texto = 'Tudo certo por aqui!'\n",
    "texto = texto.split()\n",
    "del texto[1]\n",
    "print(texto)"
   ],
   "metadata": {
    "collapsed": false
   },
   "id": "ae3de1c0a71a227f"
  },
  {
   "cell_type": "code",
   "execution_count": null,
   "outputs": [],
   "source": [
    "def executa_funcao1(num):\n",
    "    if num % 2 == 0 and num > 2:\n",
    "        executa_funcao2(num)\n",
    "    else:\n",
    "        num += 1\n",
    "        executa_funcao1(num)\n",
    "        \n",
    "def executa_funcao2(cont):\n",
    "    print(cont)\n",
    "    \n",
    "executa_funcao1(1)"
   ],
   "metadata": {
    "collapsed": false
   },
   "id": "45a22fd3978344ef"
  },
  {
   "cell_type": "markdown",
   "source": [
    "Fim da revisão 1"
   ],
   "metadata": {
    "collapsed": false
   },
   "id": "bce042b812b87b28"
  }
 ],
 "metadata": {
  "kernelspec": {
   "display_name": "Python 3",
   "language": "python",
   "name": "python3"
  },
  "language_info": {
   "codemirror_mode": {
    "name": "ipython",
    "version": 2
   },
   "file_extension": ".py",
   "mimetype": "text/x-python",
   "name": "python",
   "nbconvert_exporter": "python",
   "pygments_lexer": "ipython2",
   "version": "2.7.6"
  }
 },
 "nbformat": 4,
 "nbformat_minor": 5
}
