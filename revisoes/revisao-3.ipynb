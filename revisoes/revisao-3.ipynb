{
 "cells": [
  {
   "cell_type": "code",
   "execution_count": 6,
   "id": "initial_id",
   "metadata": {
    "collapsed": true,
    "ExecuteTime": {
     "end_time": "2023-09-08T11:40:37.046771100Z",
     "start_time": "2023-09-08T11:40:37.042164600Z"
    }
   },
   "outputs": [
    {
     "name": "stdout",
     "output_type": "stream",
     "text": [
      "2\n"
     ]
    }
   ],
   "source": [
    "def f(num):\n",
    "    if num == 1 or num == 2:\n",
    "        return 1\n",
    "    return f(num-1) + f(num-2)\n",
    "\n",
    "print(f(3))"
   ]
  },
  {
   "cell_type": "code",
   "execution_count": 2,
   "outputs": [
    {
     "name": "stdout",
     "output_type": "stream",
     "text": [
      "2\n"
     ]
    }
   ],
   "source": [
    "lista = [2, 4, 9, 6]\n",
    "cont = 0\n",
    "\n",
    "for i in range (-1, len(lista), 2):\n",
    "    if lista[i] % 3 == 0:\n",
    "        cont += 1\n",
    "\n",
    "print(cont)"
   ],
   "metadata": {
    "collapsed": false,
    "ExecuteTime": {
     "end_time": "2023-09-08T11:38:09.581403500Z",
     "start_time": "2023-09-08T11:38:09.576206600Z"
    }
   },
   "id": "d6d2539008e9f39d"
  },
  {
   "cell_type": "code",
   "execution_count": 7,
   "outputs": [
    {
     "name": "stdout",
     "output_type": "stream",
     "text": [
      "[3, 7, 9]\n"
     ]
    }
   ],
   "source": [
    "lista = [3, 7, 11, 9]\n",
    "\n",
    "lista.remove(max(lista))\n",
    "lista.sort()\n",
    "print(lista)"
   ],
   "metadata": {
    "collapsed": false,
    "ExecuteTime": {
     "end_time": "2023-09-08T11:40:40.503311900Z",
     "start_time": "2023-09-08T11:40:40.498269600Z"
    }
   },
   "id": "468fc9d47ec59c57"
  }
 ],
 "metadata": {
  "kernelspec": {
   "display_name": "Python 3",
   "language": "python",
   "name": "python3"
  },
  "language_info": {
   "codemirror_mode": {
    "name": "ipython",
    "version": 2
   },
   "file_extension": ".py",
   "mimetype": "text/x-python",
   "name": "python",
   "nbconvert_exporter": "python",
   "pygments_lexer": "ipython2",
   "version": "2.7.6"
  }
 },
 "nbformat": 4,
 "nbformat_minor": 5
}
