{
 "cells": [
  {
   "cell_type": "code",
   "execution_count": 14,
   "id": "initial_id",
   "metadata": {
    "collapsed": true,
    "ExecuteTime": {
     "end_time": "2023-09-08T11:33:52.501387500Z",
     "start_time": "2023-09-08T11:33:52.482705600Z"
    }
   },
   "outputs": [
    {
     "name": "stdout",
     "output_type": "stream",
     "text": [
      "avenida almeida 1010\n",
      "avenida almeida 1010\n"
     ]
    }
   ],
   "source": [
    "dados_pessoais = ['joão da silva', 'avenida almeida 1010']\n",
    "pessoa = {'423.683.798-32':dados_pessoais}\n",
    "\n",
    "print(dados_pessoais[1])\n",
    "print(pessoa['423.683.798-32'][1])"
   ]
  },
  {
   "cell_type": "code",
   "execution_count": 15,
   "outputs": [
    {
     "name": "stdout",
     "output_type": "stream",
     "text": [
      "6.0\n"
     ]
    }
   ],
   "source": [
    "def checa_lista(lista):\n",
    "    total = 0.0\n",
    "    media = sum(lista) / len(lista)\n",
    "    for elemento in lista:\n",
    "        if elemento > media:\n",
    "            total += elemento\n",
    "        else:\n",
    "            total -= 1.0\n",
    "    return total\n",
    "\n",
    "print(checa_lista([2.0, 4.0, 2.0, 4.0]))"
   ],
   "metadata": {
    "collapsed": false,
    "ExecuteTime": {
     "end_time": "2023-09-08T11:33:53.605521Z",
     "start_time": "2023-09-08T11:33:53.602440500Z"
    }
   },
   "id": "3c5a023a4a23b7a"
  },
  {
   "cell_type": "code",
   "execution_count": 16,
   "outputs": [
    {
     "name": "stdout",
     "output_type": "stream",
     "text": [
      "100\n"
     ]
    }
   ],
   "source": [
    "def e(b):\n",
    "    a = b*b\n",
    "    return a\n",
    "\n",
    "num = 10\n",
    "e(num)\n",
    "e(num)\n",
    "print(e(num))"
   ],
   "metadata": {
    "collapsed": false,
    "ExecuteTime": {
     "end_time": "2023-09-08T11:33:54.925785600Z",
     "start_time": "2023-09-08T11:33:54.920505600Z"
    }
   },
   "id": "9f23a194b1f3f9ba"
  },
  {
   "cell_type": "code",
   "execution_count": null,
   "outputs": [],
   "source": [],
   "metadata": {
    "collapsed": false
   },
   "id": "d87bdd7af9ff012d"
  }
 ],
 "metadata": {
  "kernelspec": {
   "display_name": "Python 3",
   "language": "python",
   "name": "python3"
  },
  "language_info": {
   "codemirror_mode": {
    "name": "ipython",
    "version": 2
   },
   "file_extension": ".py",
   "mimetype": "text/x-python",
   "name": "python",
   "nbconvert_exporter": "python",
   "pygments_lexer": "ipython2",
   "version": "2.7.6"
  }
 },
 "nbformat": 4,
 "nbformat_minor": 5
}
